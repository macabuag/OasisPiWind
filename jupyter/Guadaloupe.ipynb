{
 "cells": [
  {
   "cell_type": "code",
   "execution_count": 1,
   "metadata": {},
   "outputs": [],
   "source": [
    "%config IPCompleter.greedy=True\n"
   ]
  },
  {
   "cell_type": "code",
   "execution_count": 2,
   "metadata": {},
   "outputs": [],
   "source": [
    "import pandas as pd\n",
    "import matplotlib as mpl\n",
    "import matplotlib.pyplot as plt\n",
    "import geopandas as gpd\n",
    "import math\n",
    "import numpy as np\n",
    "import json\n",
    "import seaborn as sns\n",
    "import folium\n",
    "import os\n",
    "from shapely.geometry import Point, Polygon\n",
    "from descartes import PolygonPatch\n",
    "from mpl_toolkits.axes_grid1 import AxesGrid\n",
    "from matplotlib.offsetbox import AnchoredText"
   ]
  },
  {
   "cell_type": "markdown",
   "metadata": {},
   "source": [
    "Lets have a look at the model grid data contained in the Area Peril dictionary file. \n",
    "Note that the dictionary is only meta-data, and not required for model execution."
   ]
  },
  {
   "cell_type": "code",
   "execution_count": 3,
   "metadata": {},
   "outputs": [
    {
     "data": {
      "text/html": [
       "<div>\n",
       "<style scoped>\n",
       "    .dataframe tbody tr th:only-of-type {\n",
       "        vertical-align: middle;\n",
       "    }\n",
       "\n",
       "    .dataframe tbody tr th {\n",
       "        vertical-align: top;\n",
       "    }\n",
       "\n",
       "    .dataframe thead th {\n",
       "        text-align: right;\n",
       "    }\n",
       "</style>\n",
       "<table border=\"1\" class=\"dataframe\">\n",
       "  <thead>\n",
       "    <tr style=\"text-align: right;\">\n",
       "      <th></th>\n",
       "      <th>PERIL_ID</th>\n",
       "      <th>COVERAGE_TYPE</th>\n",
       "      <th>LON1</th>\n",
       "      <th>LAT1</th>\n",
       "      <th>LON2</th>\n",
       "      <th>LAT2</th>\n",
       "      <th>LON3</th>\n",
       "      <th>LAT3</th>\n",
       "      <th>LON4</th>\n",
       "      <th>LAT4</th>\n",
       "      <th>AREA_PERIL_ID</th>\n",
       "    </tr>\n",
       "  </thead>\n",
       "  <tbody>\n",
       "    <tr>\n",
       "      <th>0</th>\n",
       "      <td>WTC</td>\n",
       "      <td>1</td>\n",
       "      <td>-61.901838</td>\n",
       "      <td>16.608005</td>\n",
       "      <td>-61.808102</td>\n",
       "      <td>16.607489</td>\n",
       "      <td>-61.808657</td>\n",
       "      <td>16.517109</td>\n",
       "      <td>-61.902349</td>\n",
       "      <td>16.517622</td>\n",
       "      <td>1</td>\n",
       "    </tr>\n",
       "    <tr>\n",
       "      <th>1</th>\n",
       "      <td>WTC</td>\n",
       "      <td>1</td>\n",
       "      <td>-61.902349</td>\n",
       "      <td>16.517622</td>\n",
       "      <td>-61.808657</td>\n",
       "      <td>16.517109</td>\n",
       "      <td>-61.809209</td>\n",
       "      <td>16.426728</td>\n",
       "      <td>-61.902858</td>\n",
       "      <td>16.427238</td>\n",
       "      <td>2</td>\n",
       "    </tr>\n",
       "    <tr>\n",
       "      <th>2</th>\n",
       "      <td>WTC</td>\n",
       "      <td>1</td>\n",
       "      <td>-61.902858</td>\n",
       "      <td>16.427238</td>\n",
       "      <td>-61.809209</td>\n",
       "      <td>16.426728</td>\n",
       "      <td>-61.809758</td>\n",
       "      <td>16.336346</td>\n",
       "      <td>-61.903363</td>\n",
       "      <td>16.336853</td>\n",
       "      <td>3</td>\n",
       "    </tr>\n",
       "    <tr>\n",
       "      <th>3</th>\n",
       "      <td>WTC</td>\n",
       "      <td>1</td>\n",
       "      <td>-61.903363</td>\n",
       "      <td>16.336853</td>\n",
       "      <td>-61.809758</td>\n",
       "      <td>16.336346</td>\n",
       "      <td>-61.810303</td>\n",
       "      <td>16.245963</td>\n",
       "      <td>-61.903865</td>\n",
       "      <td>16.246467</td>\n",
       "      <td>4</td>\n",
       "    </tr>\n",
       "    <tr>\n",
       "      <th>4</th>\n",
       "      <td>WTC</td>\n",
       "      <td>1</td>\n",
       "      <td>-61.903865</td>\n",
       "      <td>16.246467</td>\n",
       "      <td>-61.810303</td>\n",
       "      <td>16.245963</td>\n",
       "      <td>-61.810844</td>\n",
       "      <td>16.155580</td>\n",
       "      <td>-61.904364</td>\n",
       "      <td>16.156081</td>\n",
       "      <td>5</td>\n",
       "    </tr>\n",
       "  </tbody>\n",
       "</table>\n",
       "</div>"
      ],
      "text/plain": [
       "  PERIL_ID  COVERAGE_TYPE       LON1       LAT1       LON2       LAT2  \\\n",
       "0      WTC              1 -61.901838  16.608005 -61.808102  16.607489   \n",
       "1      WTC              1 -61.902349  16.517622 -61.808657  16.517109   \n",
       "2      WTC              1 -61.902858  16.427238 -61.809209  16.426728   \n",
       "3      WTC              1 -61.903363  16.336853 -61.809758  16.336346   \n",
       "4      WTC              1 -61.903865  16.246467 -61.810303  16.245963   \n",
       "\n",
       "        LON3       LAT3       LON4       LAT4  AREA_PERIL_ID  \n",
       "0 -61.808657  16.517109 -61.902349  16.517622              1  \n",
       "1 -61.809209  16.426728 -61.902858  16.427238              2  \n",
       "2 -61.809758  16.336346 -61.903363  16.336853              3  \n",
       "3 -61.810303  16.245963 -61.903865  16.246467              4  \n",
       "4 -61.810844  16.155580 -61.904364  16.156081              5  "
      ]
     },
     "execution_count": 3,
     "metadata": {},
     "output_type": "execute_result"
    }
   ],
   "source": [
    "area_peril_dictionary = pd.read_csv(\"../keys_data/PiWind/areaperil_dict.csv\")\n",
    "area_peril_dictionary.head()"
   ]
  },
  {
   "cell_type": "markdown",
   "metadata": {},
   "source": [
    "Lets plot the area peril cells on a map of the UK. For this model, the area perils are a simple uniform grid in a square."
   ]
  },
  {
   "cell_type": "code",
   "execution_count": 4,
   "metadata": {},
   "outputs": [],
   "source": [
    "m = folium.Map(location=[\t16.1730949, -61.4054001], zoom_start=11, tiles='cartodbpositron')\n",
    "area_peril_dictionary['lat']=area_peril_dictionary['LAT1']\n",
    "area_peril_dictionary['lon']=area_peril_dictionary['LON1']\n",
    "num_cells = area_peril_dictionary.lat.count()\n",
    "num_cells_per_side = math.sqrt(num_cells)\n",
    "cell_size_lat = (max(area_peril_dictionary.lat) - min(area_peril_dictionary.lat)) / (num_cells_per_side - 1)\n",
    "cell_size_lon = (max(area_peril_dictionary.lon) - min(area_peril_dictionary.lon)) / (num_cells_per_side - 1)\n",
    "for i, row in area_peril_dictionary.iterrows():\n",
    "    geometry = [Polygon([\n",
    "        (row.lon, row.lat),\n",
    "        (row.lon, row.lat + cell_size_lat),\n",
    "        (row.lon + cell_size_lon, row.lat + cell_size_lat),\n",
    "        (row.lon + cell_size_lon, row.lat)])]        \n",
    "    crs = 'epsg:4326'\n",
    "    d = {'Description': ['All']}\n",
    "    df = pd.DataFrame(data=d)\n",
    "    gdf = gpd.GeoDataFrame(df, crs=crs, geometry=geometry)\n",
    "    folium.GeoJson(gdf).add_to(m)\n",
    "    \n",
    "m.save(\"piwind_extent_map.html\")"
   ]
  },
  {
   "cell_type": "code",
   "execution_count": 5,
   "metadata": {},
   "outputs": [
    {
     "data": {
      "text/html": [
       "<iframe width=\"100%\" height=350 src=\"piwind_extent_map.html\"></iframe>\n"
      ],
      "text/plain": [
       "<IPython.core.display.HTML object>"
      ]
     },
     "metadata": {},
     "output_type": "display_data"
    }
   ],
   "source": [
    "%%HTML\n",
    "<iframe width=\"100%\" height=350 src=\"piwind_extent_map.html\"></iframe>"
   ]
  },
  {
   "cell_type": "markdown",
   "metadata": {},
   "source": [
    "Lets have a look at the data contained in the Intensity Bin dictionary file. \n",
    "Note that the dictionary is only meta-data, and not required for model execution."
   ]
  },
  {
   "cell_type": "code",
   "execution_count": 6,
   "metadata": {},
   "outputs": [
    {
     "data": {
      "text/html": [
       "<div>\n",
       "<style scoped>\n",
       "    .dataframe tbody tr th:only-of-type {\n",
       "        vertical-align: middle;\n",
       "    }\n",
       "\n",
       "    .dataframe tbody tr th {\n",
       "        vertical-align: top;\n",
       "    }\n",
       "\n",
       "    .dataframe thead th {\n",
       "        text-align: right;\n",
       "    }\n",
       "</style>\n",
       "<table border=\"1\" class=\"dataframe\">\n",
       "  <thead>\n",
       "    <tr style=\"text-align: right;\">\n",
       "      <th></th>\n",
       "      <th>bin_index</th>\n",
       "      <th>bin_from</th>\n",
       "      <th>bin_to</th>\n",
       "      <th>interpolation</th>\n",
       "      <th>interval_type</th>\n",
       "    </tr>\n",
       "  </thead>\n",
       "  <tbody>\n",
       "    <tr>\n",
       "      <th>0</th>\n",
       "      <td>1</td>\n",
       "      <td>37.5</td>\n",
       "      <td>42.5</td>\n",
       "      <td>40</td>\n",
       "      <td>1202</td>\n",
       "    </tr>\n",
       "    <tr>\n",
       "      <th>1</th>\n",
       "      <td>2</td>\n",
       "      <td>42.5</td>\n",
       "      <td>47.5</td>\n",
       "      <td>45</td>\n",
       "      <td>1202</td>\n",
       "    </tr>\n",
       "    <tr>\n",
       "      <th>2</th>\n",
       "      <td>3</td>\n",
       "      <td>47.5</td>\n",
       "      <td>52.5</td>\n",
       "      <td>50</td>\n",
       "      <td>1202</td>\n",
       "    </tr>\n",
       "    <tr>\n",
       "      <th>3</th>\n",
       "      <td>4</td>\n",
       "      <td>52.5</td>\n",
       "      <td>57.5</td>\n",
       "      <td>55</td>\n",
       "      <td>1202</td>\n",
       "    </tr>\n",
       "    <tr>\n",
       "      <th>4</th>\n",
       "      <td>5</td>\n",
       "      <td>57.5</td>\n",
       "      <td>62.5</td>\n",
       "      <td>60</td>\n",
       "      <td>1202</td>\n",
       "    </tr>\n",
       "  </tbody>\n",
       "</table>\n",
       "</div>"
      ],
      "text/plain": [
       "   bin_index  bin_from  bin_to  interpolation  interval_type\n",
       "0          1      37.5    42.5             40           1202\n",
       "1          2      42.5    47.5             45           1202\n",
       "2          3      47.5    52.5             50           1202\n",
       "3          4      52.5    57.5             55           1202\n",
       "4          5      57.5    62.5             60           1202"
      ]
     },
     "execution_count": 6,
     "metadata": {},
     "output_type": "execute_result"
    }
   ],
   "source": [
    "intensity_bin_dictionary = pd.read_csv(\"../model_data/PiWind/intensity_bin_dict.csv\")\n",
    "intensity_bin_dictionary.head()"
   ]
  },
  {
   "cell_type": "markdown",
   "metadata": {},
   "source": [
    "Lets have a look at the data contained in the footprint file. "
   ]
  },
  {
   "cell_type": "code",
   "execution_count": 7,
   "metadata": {},
   "outputs": [
    {
     "data": {
      "text/html": [
       "<div>\n",
       "<style scoped>\n",
       "    .dataframe tbody tr th:only-of-type {\n",
       "        vertical-align: middle;\n",
       "    }\n",
       "\n",
       "    .dataframe tbody tr th {\n",
       "        vertical-align: top;\n",
       "    }\n",
       "\n",
       "    .dataframe thead th {\n",
       "        text-align: right;\n",
       "    }\n",
       "</style>\n",
       "<table border=\"1\" class=\"dataframe\">\n",
       "  <thead>\n",
       "    <tr style=\"text-align: right;\">\n",
       "      <th></th>\n",
       "      <th>event_id</th>\n",
       "      <th>areaperil_id</th>\n",
       "      <th>intensity_bin_id</th>\n",
       "      <th>probability</th>\n",
       "    </tr>\n",
       "  </thead>\n",
       "  <tbody>\n",
       "    <tr>\n",
       "      <th>0</th>\n",
       "      <td>1</td>\n",
       "      <td>1</td>\n",
       "      <td>12</td>\n",
       "      <td>1</td>\n",
       "    </tr>\n",
       "    <tr>\n",
       "      <th>1</th>\n",
       "      <td>1</td>\n",
       "      <td>2</td>\n",
       "      <td>14</td>\n",
       "      <td>1</td>\n",
       "    </tr>\n",
       "    <tr>\n",
       "      <th>2</th>\n",
       "      <td>1</td>\n",
       "      <td>3</td>\n",
       "      <td>16</td>\n",
       "      <td>1</td>\n",
       "    </tr>\n",
       "    <tr>\n",
       "      <th>3</th>\n",
       "      <td>1</td>\n",
       "      <td>4</td>\n",
       "      <td>17</td>\n",
       "      <td>1</td>\n",
       "    </tr>\n",
       "    <tr>\n",
       "      <th>4</th>\n",
       "      <td>1</td>\n",
       "      <td>5</td>\n",
       "      <td>18</td>\n",
       "      <td>1</td>\n",
       "    </tr>\n",
       "  </tbody>\n",
       "</table>\n",
       "</div>"
      ],
      "text/plain": [
       "   event_id  areaperil_id  intensity_bin_id  probability\n",
       "0         1             1                12            1\n",
       "1         1             2                14            1\n",
       "2         1             3                16            1\n",
       "3         1             4                17            1\n",
       "4         1             5                18            1"
      ]
     },
     "execution_count": 7,
     "metadata": {},
     "output_type": "execute_result"
    }
   ],
   "source": [
    "footprints = pd.read_csv(\"../model_data/PiWind/footprint.csv\")\n",
    "footprints.head()"
   ]
  },
  {
   "cell_type": "code",
   "execution_count": 8,
   "metadata": {},
   "outputs": [
    {
     "data": {
      "text/html": [
       "<div>\n",
       "<style scoped>\n",
       "    .dataframe tbody tr th:only-of-type {\n",
       "        vertical-align: middle;\n",
       "    }\n",
       "\n",
       "    .dataframe tbody tr th {\n",
       "        vertical-align: top;\n",
       "    }\n",
       "\n",
       "    .dataframe thead th {\n",
       "        text-align: right;\n",
       "    }\n",
       "</style>\n",
       "<table border=\"1\" class=\"dataframe\">\n",
       "  <thead>\n",
       "    <tr style=\"text-align: right;\">\n",
       "      <th></th>\n",
       "      <th>event_id</th>\n",
       "    </tr>\n",
       "  </thead>\n",
       "  <tbody>\n",
       "    <tr>\n",
       "      <th>0</th>\n",
       "      <td>1</td>\n",
       "    </tr>\n",
       "    <tr>\n",
       "      <th>1</th>\n",
       "      <td>2</td>\n",
       "    </tr>\n",
       "  </tbody>\n",
       "</table>\n",
       "</div>"
      ],
      "text/plain": [
       "   event_id\n",
       "0         1\n",
       "1         2"
      ]
     },
     "execution_count": 8,
     "metadata": {},
     "output_type": "execute_result"
    }
   ],
   "source": [
    "events = pd.read_csv(\"../model_data/PiWind/events_p.csv\")\n",
    "events.head()"
   ]
  },
  {
   "cell_type": "markdown",
   "metadata": {},
   "source": [
    "Lets visualize the first 5 event footprints."
   ]
  },
  {
   "cell_type": "code",
   "execution_count": 9,
   "metadata": {
    "scrolled": true
   },
   "outputs": [
    {
     "name": "stderr",
     "output_type": "stream",
     "text": [
      "<ipython-input-9-b848c9212b59>:46: MatplotlibDeprecationWarning: Since 3.2, mpl_toolkits's own colorbar implementation is deprecated; it will be removed two minor releases later.  Set the 'mpl_toolkits.legacy_colorbar' rcParam to False to use Matplotlib's default colorbar implementation and suppress this deprecation warning.\n",
      "  grid[0].cax.colorbar(im)\n",
      "/home/macab/oasistest/oasis_env/oasis_env/lib/python3.8/site-packages/mpl_toolkits/axes_grid1/axes_grid.py:46: MatplotlibDeprecationWarning: \n",
      "The mpl_toolkits.axes_grid1.colorbar module was deprecated in Matplotlib 3.2 and will be removed two minor releases later. Use matplotlib.colorbar instead.\n",
      "  from .colorbar import Colorbar\n"
     ]
    },
    {
     "data": {
      "image/png": "[encoded data removed]",
      "text/plain": [
       "<Figure size 1440x720 with 10 Axes>"
      ]
     },
     "metadata": {
      "needs_background": "light"
     },
     "output_type": "display_data"
    }
   ],
   "source": [
    "area_peril_dictionary['gridcell'] = area_peril_dictionary['AREA_PERIL_ID'].apply(\n",
    "    lambda ap: str(int((ap-1)/10)+1)+\"-\"+str(ap-(int((ap-1)/10))*10))\n",
    "\n",
    "footprints_with_hazard = footprints.merge(\n",
    "    intensity_bin_dictionary, how='inner', \n",
    "    left_on='intensity_bin_id', right_on='bin_index').merge(\n",
    "    area_peril_dictionary, how='inner', \n",
    "    left_on='areaperil_id', right_on='AREA_PERIL_ID')\n",
    "\n",
    "footprints_with_hazard = footprints_with_hazard[footprints_with_hazard['PERIL_ID']=='WTC']\n",
    "footprints_with_hazard = footprints_with_hazard[footprints_with_hazard['COVERAGE_TYPE']==1]\n",
    "\n",
    "fig = plt.figure(figsize=(20,10))\n",
    "\n",
    "grid = AxesGrid(fig, 111,\n",
    "                nrows_ncols=(1, 5),\n",
    "                axes_pad=0.05,\n",
    "                share_all=True,\n",
    "                label_mode=\"L\",\n",
    "                cbar_location=\"right\",\n",
    "                cbar_mode=\"single\",\n",
    "                )\n",
    "\n",
    "vmin = min(footprints_with_hazard.interpolation)\n",
    "vmax = max(footprints_with_hazard.interpolation)\n",
    "for idx, ax in enumerate(grid):\n",
    "    a = np.zeros([10, 10])\n",
    "    for __, row in footprints_with_hazard[footprints_with_hazard.event_id == idx+1].iterrows():\n",
    "        i, j = row.gridcell.split('-')\n",
    "        a[10-int(i), int(j)-1] = row.interpolation\n",
    "    im = ax.imshow(a, cmap=plt.cm.get_cmap('Blues'), vmin=vmin, vmax=vmax,\n",
    "                   extent=(\n",
    "                       min(area_peril_dictionary.lon), max(area_peril_dictionary.lon), \n",
    "                       min(area_peril_dictionary.lat), max(area_peril_dictionary.lat)))\n",
    "    ax.set_xlabel(\"longitude\")\n",
    "    ax.set_ylabel(\"latitude\")\n",
    "    at = AnchoredText(\n",
    "        \"Event ID = {}\".format(idx + 1),\n",
    "        prop=dict(size=8),\n",
    "        frameon=True,\n",
    "        loc=2,\n",
    "    )\n",
    "    at.patch.set_boxstyle(\"round,pad=0.,rounding_size=0.2\")\n",
    "    ax.add_artist(at)\n",
    "\n",
    "grid[0].cax.colorbar(im)\n",
    "cax = grid.cbar_axes[0]\n",
    "axis = cax.axis[cax.orientation]\n",
    "axis.label.set_text(\"Intensity - Peak gust (mph)\")\n",
    "\n",
    "plt.show()"
   ]
  },
  {
   "cell_type": "markdown",
   "metadata": {},
   "source": [
    "Lets have a look at the data contained in the Damage Bin dictionary file. \n",
    "Note that the dictionary is required for model execution."
   ]
  },
  {
   "cell_type": "code",
   "execution_count": 10,
   "metadata": {},
   "outputs": [
    {
     "data": {
      "text/html": [
       "<div>\n",
       "<style scoped>\n",
       "    .dataframe tbody tr th:only-of-type {\n",
       "        vertical-align: middle;\n",
       "    }\n",
       "\n",
       "    .dataframe tbody tr th {\n",
       "        vertical-align: top;\n",
       "    }\n",
       "\n",
       "    .dataframe thead th {\n",
       "        text-align: right;\n",
       "    }\n",
       "</style>\n",
       "<table border=\"1\" class=\"dataframe\">\n",
       "  <thead>\n",
       "    <tr style=\"text-align: right;\">\n",
       "      <th></th>\n",
       "      <th>bin_index</th>\n",
       "      <th>bin_from</th>\n",
       "      <th>bin_to</th>\n",
       "      <th>interpolation</th>\n",
       "      <th>interval_type</th>\n",
       "    </tr>\n",
       "  </thead>\n",
       "  <tbody>\n",
       "    <tr>\n",
       "      <th>0</th>\n",
       "      <td>1</td>\n",
       "      <td>0.0</td>\n",
       "      <td>0.0</td>\n",
       "      <td>0.00</td>\n",
       "      <td>1203</td>\n",
       "    </tr>\n",
       "    <tr>\n",
       "      <th>1</th>\n",
       "      <td>2</td>\n",
       "      <td>0.0</td>\n",
       "      <td>0.1</td>\n",
       "      <td>0.05</td>\n",
       "      <td>1200</td>\n",
       "    </tr>\n",
       "    <tr>\n",
       "      <th>2</th>\n",
       "      <td>3</td>\n",
       "      <td>0.1</td>\n",
       "      <td>0.2</td>\n",
       "      <td>0.15</td>\n",
       "      <td>1202</td>\n",
       "    </tr>\n",
       "    <tr>\n",
       "      <th>3</th>\n",
       "      <td>4</td>\n",
       "      <td>0.2</td>\n",
       "      <td>0.3</td>\n",
       "      <td>0.25</td>\n",
       "      <td>1202</td>\n",
       "    </tr>\n",
       "    <tr>\n",
       "      <th>4</th>\n",
       "      <td>5</td>\n",
       "      <td>0.3</td>\n",
       "      <td>0.4</td>\n",
       "      <td>0.35</td>\n",
       "      <td>1202</td>\n",
       "    </tr>\n",
       "  </tbody>\n",
       "</table>\n",
       "</div>"
      ],
      "text/plain": [
       "   bin_index  bin_from  bin_to  interpolation  interval_type\n",
       "0          1       0.0     0.0           0.00           1203\n",
       "1          2       0.0     0.1           0.05           1200\n",
       "2          3       0.1     0.2           0.15           1202\n",
       "3          4       0.2     0.3           0.25           1202\n",
       "4          5       0.3     0.4           0.35           1202"
      ]
     },
     "execution_count": 10,
     "metadata": {},
     "output_type": "execute_result"
    }
   ],
   "source": [
    "damage_bin_dictionary = pd.read_csv(\"../model_data/PiWind/damage_bin_dict.csv\")\n",
    "damage_bin_dictionary.head()"
   ]
  },
  {
   "cell_type": "markdown",
   "metadata": {},
   "source": [
    "Lets have a look at the data contained in the Vulnerability file. "
   ]
  },
  {
   "cell_type": "code",
   "execution_count": 11,
   "metadata": {},
   "outputs": [
    {
     "data": {
      "text/html": [
       "<div>\n",
       "<style scoped>\n",
       "    .dataframe tbody tr th:only-of-type {\n",
       "        vertical-align: middle;\n",
       "    }\n",
       "\n",
       "    .dataframe tbody tr th {\n",
       "        vertical-align: top;\n",
       "    }\n",
       "\n",
       "    .dataframe thead th {\n",
       "        text-align: right;\n",
       "    }\n",
       "</style>\n",
       "<table border=\"1\" class=\"dataframe\">\n",
       "  <thead>\n",
       "    <tr style=\"text-align: right;\">\n",
       "      <th></th>\n",
       "      <th>vulnerability_id</th>\n",
       "      <th>intensity_bin_id</th>\n",
       "      <th>damage_bin_id</th>\n",
       "      <th>probability</th>\n",
       "    </tr>\n",
       "  </thead>\n",
       "  <tbody>\n",
       "    <tr>\n",
       "      <th>0</th>\n",
       "      <td>31</td>\n",
       "      <td>5</td>\n",
       "      <td>2</td>\n",
       "      <td>1</td>\n",
       "    </tr>\n",
       "    <tr>\n",
       "      <th>1</th>\n",
       "      <td>31</td>\n",
       "      <td>6</td>\n",
       "      <td>2</td>\n",
       "      <td>1</td>\n",
       "    </tr>\n",
       "    <tr>\n",
       "      <th>2</th>\n",
       "      <td>31</td>\n",
       "      <td>7</td>\n",
       "      <td>2</td>\n",
       "      <td>1</td>\n",
       "    </tr>\n",
       "    <tr>\n",
       "      <th>3</th>\n",
       "      <td>31</td>\n",
       "      <td>8</td>\n",
       "      <td>2</td>\n",
       "      <td>1</td>\n",
       "    </tr>\n",
       "    <tr>\n",
       "      <th>4</th>\n",
       "      <td>31</td>\n",
       "      <td>9</td>\n",
       "      <td>2</td>\n",
       "      <td>1</td>\n",
       "    </tr>\n",
       "  </tbody>\n",
       "</table>\n",
       "</div>"
      ],
      "text/plain": [
       "   vulnerability_id  intensity_bin_id  damage_bin_id  probability\n",
       "0                31                 5              2            1\n",
       "1                31                 6              2            1\n",
       "2                31                 7              2            1\n",
       "3                31                 8              2            1\n",
       "4                31                 9              2            1"
      ]
     },
     "execution_count": 11,
     "metadata": {},
     "output_type": "execute_result"
    }
   ],
   "source": [
    "vulnerabilities = pd.read_csv(\"../model_data/PiWind/vulnerability.csv\")\n",
    "vulnerabilities.head()"
   ]
  },
  {
   "cell_type": "markdown",
   "metadata": {},
   "source": [
    "The model has seperate vulnerability curves for Residential, Commerical and Industrial occupancies. \n",
    "Lets visualise these curves."
   ]
  },
  {
   "cell_type": "code",
   "execution_count": 12,
   "metadata": {},
   "outputs": [
    {
     "name": "stderr",
     "output_type": "stream",
     "text": [
      "<ipython-input-12-ca8b331eedfc>:42: MatplotlibDeprecationWarning: Since 3.2, mpl_toolkits's own colorbar implementation is deprecated; it will be removed two minor releases later.  Set the 'mpl_toolkits.legacy_colorbar' rcParam to False to use Matplotlib's default colorbar implementation and suppress this deprecation warning.\n",
      "  grid[0].cax.colorbar(im)\n"
     ]
    },
    {
     "data": {
      "image/png": "[encoded data removed]",
      "text/plain": [
       "<Figure size 720x1440 with 6 Axes>"
      ]
     },
     "metadata": {
      "needs_background": "light"
     },
     "output_type": "display_data"
    }
   ],
   "source": [
    "vulnerabilities_with_hazard_and_damage = vulnerabilities.merge(\n",
    "    intensity_bin_dictionary, how='inner', \n",
    "    left_on='intensity_bin_id', right_on='bin_index').merge(\n",
    "    damage_bin_dictionary, how='inner',\n",
    "    suffixes=[\"_i\", \"_d\"], left_on='damage_bin_id', right_on='bin_index')\n",
    "\n",
    "fig = plt.figure(figsize=(10,20))\n",
    "\n",
    "grid = AxesGrid(fig, 111,\n",
    "                nrows_ncols=(1, 3),\n",
    "                axes_pad=0.05,\n",
    "                share_all=True,\n",
    "                label_mode=\"L\",\n",
    "                cbar_location=\"right\",\n",
    "                cbar_mode=\"single\",\n",
    "                )\n",
    "\n",
    "vmin = 0.0\n",
    "vmax = max(vulnerabilities_with_hazard_and_damage.probability)\n",
    "labels = [\"Residential\", \"Commercial\", \"Industrial\"]\n",
    "for idx, ax in enumerate(grid):\n",
    "    a = np.zeros((29, 12))\n",
    "    for index, row in vulnerabilities_with_hazard_and_damage[\n",
    "        vulnerabilities_with_hazard_and_damage.vulnerability_id == idx + 1].iterrows():\n",
    "        a[int(row.bin_index_i-1), 11-int(row.bin_index_d-1)] = row.probability\n",
    "    \n",
    "    im = ax.imshow(a, cmap=plt.cm.get_cmap('Blues'), vmin=vmin, vmax=vmax,\n",
    "                   extent=(\n",
    "                       min(intensity_bin_dictionary.interpolation), max(intensity_bin_dictionary.interpolation), \n",
    "                       min(damage_bin_dictionary.interpolation) * 100, max(damage_bin_dictionary.interpolation) * 100))\n",
    "\n",
    "    at = AnchoredText(labels[idx],\n",
    "                  prop=dict(size=8), frameon=True,\n",
    "                  loc=2,\n",
    "                  )\n",
    "    at.patch.set_boxstyle(\"round,pad=0.,rounding_size=0.2\")\n",
    "    ax.add_artist(at)\n",
    "    \n",
    "    ax.set_xlabel(\"Intensity - Peak gust (mph)\")\n",
    "    ax.set_ylabel(\"Damage\")\n",
    "\n",
    "grid[0].cax.colorbar(im)\n",
    "cax = grid.cbar_axes[0]\n",
    "axis = cax.axis[cax.orientation]\n",
    "axis.label.set_text(\"Probability of damage\")\n",
    "\n",
    "plt.show()"
   ]
  },
  {
   "cell_type": "markdown",
   "metadata": {},
   "source": [
    "To run the model we need some test exposure data. Lets have a look at an example Location and Account file. "
   ]
  },
  {
   "cell_type": "code",
   "execution_count": 13,
   "metadata": {},
   "outputs": [
    {
     "data": {
      "text/html": [
       "<div>\n",
       "<style scoped>\n",
       "    .dataframe tbody tr th:only-of-type {\n",
       "        vertical-align: middle;\n",
       "    }\n",
       "\n",
       "    .dataframe tbody tr th {\n",
       "        vertical-align: top;\n",
       "    }\n",
       "\n",
       "    .dataframe thead th {\n",
       "        text-align: right;\n",
       "    }\n",
       "</style>\n",
       "<table border=\"1\" class=\"dataframe\">\n",
       "  <thead>\n",
       "    <tr style=\"text-align: right;\">\n",
       "      <th></th>\n",
       "      <th>PortNumber</th>\n",
       "      <th>AccNumber</th>\n",
       "      <th>LocNumber</th>\n",
       "      <th>IsTenant</th>\n",
       "      <th>BuildingID</th>\n",
       "      <th>CountryCode</th>\n",
       "      <th>Latitude</th>\n",
       "      <th>Longitude</th>\n",
       "      <th>OccupancyCode</th>\n",
       "      <th>ConstructionCode</th>\n",
       "      <th>LocPerilsCovered</th>\n",
       "      <th>BuildingTIV</th>\n",
       "      <th>ContentsTIV</th>\n",
       "      <th>BITIV</th>\n",
       "      <th>CondNumber</th>\n",
       "      <th>PortNumber.1</th>\n",
       "      <th>LocCurrency</th>\n",
       "    </tr>\n",
       "  </thead>\n",
       "  <tbody>\n",
       "    <tr>\n",
       "      <th>0</th>\n",
       "      <td>1</td>\n",
       "      <td>A11111</td>\n",
       "      <td>0</td>\n",
       "      <td>A11111</td>\n",
       "      <td>1</td>\n",
       "      <td>GLP</td>\n",
       "      <td>16.512500</td>\n",
       "      <td>-61.479167</td>\n",
       "      <td>1102</td>\n",
       "      <td>5000</td>\n",
       "      <td>WTC</td>\n",
       "      <td>1.91069</td>\n",
       "      <td>0</td>\n",
       "      <td>0</td>\n",
       "      <td>0</td>\n",
       "      <td>1</td>\n",
       "      <td></td>\n",
       "    </tr>\n",
       "    <tr>\n",
       "      <th>1</th>\n",
       "      <td>1</td>\n",
       "      <td>A11111</td>\n",
       "      <td>1</td>\n",
       "      <td>A11111</td>\n",
       "      <td>1</td>\n",
       "      <td>GLP</td>\n",
       "      <td>16.470833</td>\n",
       "      <td>-61.520833</td>\n",
       "      <td>1102</td>\n",
       "      <td>5000</td>\n",
       "      <td>WTC</td>\n",
       "      <td>1.83041</td>\n",
       "      <td>0</td>\n",
       "      <td>0</td>\n",
       "      <td>0</td>\n",
       "      <td>1</td>\n",
       "      <td></td>\n",
       "    </tr>\n",
       "    <tr>\n",
       "      <th>2</th>\n",
       "      <td>1</td>\n",
       "      <td>A11111</td>\n",
       "      <td>2</td>\n",
       "      <td>A11111</td>\n",
       "      <td>1</td>\n",
       "      <td>GLP</td>\n",
       "      <td>16.470833</td>\n",
       "      <td>-61.520833</td>\n",
       "      <td>1102</td>\n",
       "      <td>5000</td>\n",
       "      <td>WTC</td>\n",
       "      <td>6.06322</td>\n",
       "      <td>0</td>\n",
       "      <td>0</td>\n",
       "      <td>0</td>\n",
       "      <td>1</td>\n",
       "      <td></td>\n",
       "    </tr>\n",
       "    <tr>\n",
       "      <th>3</th>\n",
       "      <td>1</td>\n",
       "      <td>A11111</td>\n",
       "      <td>3</td>\n",
       "      <td>A11111</td>\n",
       "      <td>1</td>\n",
       "      <td>GLP</td>\n",
       "      <td>16.470833</td>\n",
       "      <td>-61.520833</td>\n",
       "      <td>1102</td>\n",
       "      <td>5000</td>\n",
       "      <td>WTC</td>\n",
       "      <td>2.37874</td>\n",
       "      <td>0</td>\n",
       "      <td>0</td>\n",
       "      <td>0</td>\n",
       "      <td>1</td>\n",
       "      <td></td>\n",
       "    </tr>\n",
       "    <tr>\n",
       "      <th>4</th>\n",
       "      <td>1</td>\n",
       "      <td>A11111</td>\n",
       "      <td>4</td>\n",
       "      <td>A11111</td>\n",
       "      <td>1</td>\n",
       "      <td>GLP</td>\n",
       "      <td>16.470833</td>\n",
       "      <td>-61.520833</td>\n",
       "      <td>1102</td>\n",
       "      <td>5000</td>\n",
       "      <td>WTC</td>\n",
       "      <td>7.87957</td>\n",
       "      <td>0</td>\n",
       "      <td>0</td>\n",
       "      <td>0</td>\n",
       "      <td>1</td>\n",
       "      <td></td>\n",
       "    </tr>\n",
       "  </tbody>\n",
       "</table>\n",
       "</div>"
      ],
      "text/plain": [
       "   PortNumber AccNumber  LocNumber IsTenant  BuildingID CountryCode  \\\n",
       "0           1    A11111          0   A11111           1         GLP   \n",
       "1           1    A11111          1   A11111           1         GLP   \n",
       "2           1    A11111          2   A11111           1         GLP   \n",
       "3           1    A11111          3   A11111           1         GLP   \n",
       "4           1    A11111          4   A11111           1         GLP   \n",
       "\n",
       "    Latitude  Longitude  OccupancyCode  ConstructionCode LocPerilsCovered  \\\n",
       "0  16.512500 -61.479167           1102              5000              WTC   \n",
       "1  16.470833 -61.520833           1102              5000              WTC   \n",
       "2  16.470833 -61.520833           1102              5000              WTC   \n",
       "3  16.470833 -61.520833           1102              5000              WTC   \n",
       "4  16.470833 -61.520833           1102              5000              WTC   \n",
       "\n",
       "   BuildingTIV  ContentsTIV  BITIV  CondNumber  PortNumber.1 LocCurrency  \n",
       "0      1.91069            0      0           0             1              \n",
       "1      1.83041            0      0           0             1              \n",
       "2      6.06322            0      0           0             1              \n",
       "3      2.37874            0      0           0             1              \n",
       "4      7.87957            0      0           0             1              "
      ]
     },
     "execution_count": 13,
     "metadata": {},
     "output_type": "execute_result"
    }
   ],
   "source": [
    "test_locations = pd.read_csv('../tests/inputs/SourceLocOED.csv')\n",
    "test_locations.head()"
   ]
  },
  {
   "cell_type": "code",
   "execution_count": 14,
   "metadata": {},
   "outputs": [
    {
     "data": {
      "text/html": [
       "<div>\n",
       "<style scoped>\n",
       "    .dataframe tbody tr th:only-of-type {\n",
       "        vertical-align: middle;\n",
       "    }\n",
       "\n",
       "    .dataframe tbody tr th {\n",
       "        vertical-align: top;\n",
       "    }\n",
       "\n",
       "    .dataframe thead th {\n",
       "        text-align: right;\n",
       "    }\n",
       "</style>\n",
       "<table border=\"1\" class=\"dataframe\">\n",
       "  <thead>\n",
       "    <tr style=\"text-align: right;\">\n",
       "      <th></th>\n",
       "      <th>PortNumber</th>\n",
       "      <th>PortName</th>\n",
       "      <th>PortNotes</th>\n",
       "      <th>AccNumber</th>\n",
       "      <th>AccName</th>\n",
       "      <th>AccGroup</th>\n",
       "      <th>AccStatus</th>\n",
       "      <th>ExpiringAccNumber</th>\n",
       "      <th>CedantName</th>\n",
       "      <th>AccCurrency</th>\n",
       "      <th>...</th>\n",
       "      <th>CondLimit3Contents</th>\n",
       "      <th>CondLimitCode4BI</th>\n",
       "      <th>CondLimitType4BI</th>\n",
       "      <th>CondLimit4BI</th>\n",
       "      <th>CondLimitCode5PD</th>\n",
       "      <th>CondLimitType5PD</th>\n",
       "      <th>CondLimit5PD</th>\n",
       "      <th>CondLimitCode6All</th>\n",
       "      <th>CondLimitType6All</th>\n",
       "      <th>CondLimit6All</th>\n",
       "    </tr>\n",
       "  </thead>\n",
       "  <tbody>\n",
       "    <tr>\n",
       "      <th>0</th>\n",
       "      <td>1</td>\n",
       "      <td>0</td>\n",
       "      <td>0</td>\n",
       "      <td>A11111</td>\n",
       "      <td>0</td>\n",
       "      <td>0</td>\n",
       "      <td>0</td>\n",
       "      <td>0</td>\n",
       "      <td>0</td>\n",
       "      <td>GBP</td>\n",
       "      <td>...</td>\n",
       "      <td>0</td>\n",
       "      <td>0</td>\n",
       "      <td>0</td>\n",
       "      <td>0</td>\n",
       "      <td>0</td>\n",
       "      <td>0</td>\n",
       "      <td>0</td>\n",
       "      <td>0</td>\n",
       "      <td>0</td>\n",
       "      <td>0</td>\n",
       "    </tr>\n",
       "    <tr>\n",
       "      <th>1</th>\n",
       "      <td>1</td>\n",
       "      <td>0</td>\n",
       "      <td>0</td>\n",
       "      <td>A11111</td>\n",
       "      <td>0</td>\n",
       "      <td>0</td>\n",
       "      <td>0</td>\n",
       "      <td>0</td>\n",
       "      <td>0</td>\n",
       "      <td>GBP</td>\n",
       "      <td>...</td>\n",
       "      <td>0</td>\n",
       "      <td>0</td>\n",
       "      <td>0</td>\n",
       "      <td>0</td>\n",
       "      <td>0</td>\n",
       "      <td>0</td>\n",
       "      <td>0</td>\n",
       "      <td>0</td>\n",
       "      <td>0</td>\n",
       "      <td>0</td>\n",
       "    </tr>\n",
       "  </tbody>\n",
       "</table>\n",
       "<p>2 rows × 206 columns</p>\n",
       "</div>"
      ],
      "text/plain": [
       "   PortNumber  PortName  PortNotes AccNumber  AccName  AccGroup  AccStatus  \\\n",
       "0           1         0          0    A11111        0         0          0   \n",
       "1           1         0          0    A11111        0         0          0   \n",
       "\n",
       "   ExpiringAccNumber  CedantName AccCurrency  ...  CondLimit3Contents  \\\n",
       "0                  0           0         GBP  ...                   0   \n",
       "1                  0           0         GBP  ...                   0   \n",
       "\n",
       "   CondLimitCode4BI  CondLimitType4BI  CondLimit4BI  CondLimitCode5PD  \\\n",
       "0                 0                 0             0                 0   \n",
       "1                 0                 0             0                 0   \n",
       "\n",
       "   CondLimitType5PD  CondLimit5PD  CondLimitCode6All  CondLimitType6All  \\\n",
       "0                 0             0                  0                  0   \n",
       "1                 0             0                  0                  0   \n",
       "\n",
       "   CondLimit6All  \n",
       "0              0  \n",
       "1              0  \n",
       "\n",
       "[2 rows x 206 columns]"
      ]
     },
     "execution_count": 14,
     "metadata": {},
     "output_type": "execute_result"
    }
   ],
   "source": [
    "test_accounts = pd.read_csv('../tests/inputs/SourceAccOEDPiWind.csv')\n",
    "test_accounts.head()"
   ]
  },
  {
   "cell_type": "markdown",
   "metadata": {},
   "source": [
    "To run the model, we also need to define some analysis settings. Lets have a look at an example settings file."
   ]
  },
  {
   "cell_type": "code",
   "execution_count": 15,
   "metadata": {},
   "outputs": [
    {
     "name": "stdout",
     "output_type": "stream",
     "text": [
      "{\n",
      " \"analysis_tag\": \"base_example\",\n",
      " \"source_tag\": \"MDK\",\n",
      " \"model_version_id\": \"PiWind\",\n",
      " \"module_supplier_id\": \"OasisLMF\",\n",
      " \"number_of_samples\": 10,\n",
      " \"gul_threshold\": 0,\n",
      " \"gul_output\": true,\n",
      " \"model_settings\": {\n",
      "  \"event_set\": \"p\",\n",
      "  \"event_occurrence_id\": \"lt\"\n",
      " },\n",
      " \"gul_summaries\": [\n",
      "  {\n",
      "   \"aalcalc\": true,\n",
      "   \"eltcalc\": true,\n",
      "   \"id\": 1,\n",
      "   \"lec_output\": true,\n",
      "   \"leccalc\": {\n",
      "    \"full_uncertainty_aep\": true,\n",
      "    \"full_uncertainty_oep\": true,\n",
      "    \"return_period_file\": true\n",
      "   }\n",
      "  }\n",
      " ],\n",
      " \"il_output\": true,\n",
      " \"il_summaries\": [\n",
      "  {\n",
      "   \"aalcalc\": true,\n",
      "   \"eltcalc\": true,\n",
      "   \"id\": 1,\n",
      "   \"lec_output\": true,\n",
      "   \"leccalc\": {\n",
      "    \"full_uncertainty_aep\": true,\n",
      "    \"full_uncertainty_oep\": true,\n",
      "    \"return_period_file\": true\n",
      "   }\n",
      "  }\n",
      " ],\n",
      " \"ri_output\": true,\n",
      " \"ri_summaries\": [\n",
      "  {\n",
      "   \"aalcalc\": true,\n",
      "   \"eltcalc\": true,\n",
      "   \"id\": 1,\n",
      "   \"lec_output\": true,\n",
      "   \"leccalc\": {\n",
      "    \"full_uncertainty_aep\": true,\n",
      "    \"full_uncertainty_oep\": true,\n",
      "    \"return_period_file\": true\n",
      "   }\n",
      "  }\n",
      " ]\n",
      "}\n"
     ]
    }
   ],
   "source": [
    "with open('../analysis_settings.json', 'r') as myfile:\n",
    "    analysis_settings=json.loads(myfile.read().replace('\\n', ''))\n",
    "print(json.dumps(analysis_settings, indent=True))"
   ]
  },
  {
   "cell_type": "markdown",
   "metadata": {},
   "source": [
    "We can now run the model using the Oasis MDK."
   ]
  },
  {
   "cell_type": "markdown",
   "metadata": {},
   "source": [
    "First, convert the csv file into the required binary format; and then validate them: "
   ]
  },
  {
   "cell_type": "code",
   "execution_count": 16,
   "metadata": {},
   "outputs": [],
   "source": [
    "! evetobin < ../model_data/PiWind/events_p.csv > ../model_data/PiWind/events_p.bin"
   ]
  },
  {
   "cell_type": "code",
   "execution_count": 17,
   "metadata": {},
   "outputs": [],
   "source": [
    "! footprinttobin -i 29 <../model_data/PiWind/footprint.csv"
   ]
  },
  {
   "cell_type": "code",
   "execution_count": 18,
   "metadata": {},
   "outputs": [
    {
     "name": "stdout",
     "output_type": "stream",
     "text": [
      "All checks pass.\r\n",
      "Maximum value of intensity_bin_index = 19\r\n"
     ]
    }
   ],
   "source": [
    "! validatefootprint < ../model_data/PiWind/footprint.csv"
   ]
  },
  {
   "cell_type": "code",
   "execution_count": 19,
   "metadata": {},
   "outputs": [],
   "source": [
    "! cp footprint.bin ../model_data/PiWind/ \n",
    "! cp footprint.idx ../model_data/PiWind/"
   ]
  },
  {
   "cell_type": "code",
   "execution_count": 20,
   "metadata": {},
   "outputs": [],
   "source": [
    "! vulnerabilitytobin -d 11 < ../model_data/PiWind/vulnerability.csv > ../model_data/PiWind/vulnerability.bin"
   ]
  },
  {
   "cell_type": "code",
   "execution_count": 21,
   "metadata": {},
   "outputs": [
    {
     "name": "stdout",
     "output_type": "stream",
     "text": [
      "All checks pass.  Please take note of any warnings.\r\n",
      "Maximum value of damage_bin_index = 11\r\n"
     ]
    }
   ],
   "source": [
    "! validatevulnerability < ../model_data/PiWind/vulnerability.csv"
   ]
  },
  {
   "cell_type": "code",
   "execution_count": 22,
   "metadata": {},
   "outputs": [
    {
     "name": "stdout",
     "output_type": "stream",
     "text": [
      "\n",
      "Processing arguments - RunModel\n",
      "RUNNING: oasislmf.manager.interface\n",
      "  0%|                                                     | 0/2 [00:00<?, ?it/s]\n",
      "Processing arguments - Creating Oasis Files\n",
      "\n",
      "Generating Oasis files (GUL=True, IL=True, RIL=True)\n",
      "RUNNING: oasislmf.lookup.rtree.get_vulnerabilities\n",
      "Note: NumExpr detected 20 cores but \"NUMEXPR_MAX_THREADS\" not set, so enforcing safe limit of 8.\n",
      "NumExpr defaulting to 8 threads.\n",
      "\n",
      "Keys successful: /tmp/analysis_test/input/keys.csv generated with 2060 items\n",
      "Keys errors: /tmp/analysis_test/input/keys-errors.csv generated with 0 items\n",
      "RUNNING: oasislmf.preparation.gul_inputs.get_gul_input_items\n",
      "RUNNING: oasislmf.preparation.summaries.write_exposure_summary\n",
      "RUNNING: oasislmf.preparation.summaries.get_exposure_totals\n",
      "RUNNING: oasislmf.preparation.summaries.get_exposure_summary_all\n",
      "RUNNING: oasislmf.preparation.summaries.get_exposure_summary_by_status\n",
      "RUNNING: oasislmf.preparation.summaries.get_exposure_summary_by_status\n",
      "RUNNING: oasislmf.preparation.summaries.get_exposure_summary_by_status\n",
      "RUNNING: oasislmf.preparation.summaries.get_exposure_summary_by_status\n",
      "RUNNING: oasislmf.preparation.summaries.get_exposure_summary_by_status\n",
      "RUNNING: oasislmf.preparation.summaries.get_exposure_summary_by_status\n",
      "RUNNING: oasislmf.preparation.summaries.get_exposure_summary_by_status\n",
      "RUNNING: oasislmf.preparation.gul_inputs.write_gul_input_files\n",
      "RUNNING: oasislmf.preparation.gul_inputs.write_items_file\n",
      "RUNNING: oasislmf.preparation.gul_inputs.write_coverages_file\n",
      "RUNNING: oasislmf.preparation.summaries.get_summary_mapping\n",
      "RUNNING: oasislmf.preparation.summaries.write_mapping_file\n",
      "RUNNING: oasislmf.preparation.il_inputs.get_il_input_items\n",
      "RUNNING: oasislmf.preparation.il_inputs.write_il_input_files\n",
      "RUNNING: oasislmf.preparation.il_inputs.write_fm_policytc_file\n",
      "RUNNING: oasislmf.preparation.il_inputs.write_fm_profile_file\n",
      "RUNNING: oasislmf.preparation.il_inputs.write_fm_programme_file\n",
      "RUNNING: oasislmf.preparation.il_inputs.write_fm_xref_file\n",
      "RUNNING: oasislmf.preparation.summaries.get_summary_mapping\n",
      "RUNNING: oasislmf.preparation.summaries.write_mapping_file\n",
      "RUNNING: oasislmf.preparation.reinsurance_layer.write_files_for_reinsurance\n",
      "\n",
      "Oasis files generated: {\n",
      "    \"items\": \"/tmp/analysis_test/input/items.csv\",\n",
      "    \"coverages\": \"/tmp/analysis_test/input/coverages.csv\",\n",
      "    \"fm_policytc\": \"/tmp/analysis_test/input/fm_policytc.csv\",\n",
      "    \"fm_profile\": \"/tmp/analysis_test/input/fm_profile.csv\",\n",
      "    \"fm_programme\": \"/tmp/analysis_test/input/fm_programme.csv\",\n",
      "    \"fm_xref\": \"/tmp/analysis_test/input/fm_xref.csv\",\n",
      "    \"ri_layers\": \"/tmp/analysis_test/input/ri_layers.json\",\n",
      "    \"RI_1\": \"/tmp/analysis_test/input/RI_1\"\n",
      "}\n",
      " 50%|██████████████████████▌                      | 1/2 [00:02<00:02,  2.52s/it]\n",
      "Generating losses (GUL=True, IL=True, RIL=True)\n",
      "RUNNING: oasislmf.execution.bin.prepare_run_directory\n",
      "RUNNING: oasislmf.preparation.summaries.generate_summaryxref_files\n",
      "RUNNING: oasislmf.preparation.summaries.get_summary_xref_df\n",
      "RUNNING: oasislmf.preparation.summaries.write_df_to_file\n",
      "RUNNING: oasislmf.preparation.summaries.write_df_to_file\n",
      "RUNNING: oasislmf.preparation.summaries.get_summary_xref_df\n",
      "RUNNING: oasislmf.preparation.summaries.write_df_to_file\n",
      "RUNNING: oasislmf.preparation.summaries.write_df_to_file\n",
      "RUNNING: oasislmf.preparation.summaries.get_summary_xref_df\n",
      "RUNNING: oasislmf.preparation.summaries.write_df_to_file\n",
      "RUNNING: oasislmf.preparation.summaries.write_df_to_file\n",
      "RUNNING: oasislmf.execution.bin.csv_to_bin\n",
      "RUNNING: oasislmf.execution.bin.csv_to_bin\n",
      "RUNNING: oasislmf.execution.bin.prepare_run_inputs\n",
      "RUNNING: oasislmf.execution.runner.run\n",
      "[OK] eve\n",
      "[OK] getmodel\n",
      "[OK] gulcalc\n",
      "[OK] fmcalc\n",
      "[OK] summarycalc\n",
      "[OK] eltcalc\n",
      "[OK] aalcalc\n",
      "[OK] leccalc\n",
      "Run Completed\n",
      "\n",
      "Losses generated in /tmp/analysis_test\n",
      "100%|█████████████████████████████████████████████| 2/2 [00:06<00:00,  3.48s/it]\n",
      "\n",
      "Model run completed successfully in /tmp/analysis_test\n"
     ]
    }
   ],
   "source": [
    "! rm -rf /tmp/analysis_test\n",
    "! oasislmf model run -C ../oasislmf.json -r /tmp/analysis_test"
   ]
  },
  {
   "cell_type": "markdown",
   "metadata": {},
   "source": [
    "Lets visualize the output of our analysis."
   ]
  },
  {
   "cell_type": "code",
   "execution_count": 23,
   "metadata": {},
   "outputs": [
    {
     "name": "stderr",
     "output_type": "stream",
     "text": [
      "<ipython-input-23-fab7b53d4adf>:10: UserWarning: FixedFormatter should only be used together with FixedLocator\n",
      "  ax.set_yticklabels(['{:,}'.format(int(x)) for x in ax.get_yticks().tolist()])\n"
     ]
    },
    {
     "data": {
      "text/plain": [
       "Text(0, 0.5, 'Loss')"
      ]
     },
     "execution_count": 23,
     "metadata": {},
     "output_type": "execute_result"
    },
    {
     "data": {
      "image/png": "[encoded data removed]",
      "text/plain": [
       "<Figure size 432x288 with 1 Axes>"
      ]
     },
     "metadata": {
      "needs_background": "light"
     },
     "output_type": "display_data"
    }
   ],
   "source": [
    "analysis_directory = \"/tmp/analysis_test\"\n",
    "gul_aep = pd.read_csv(os.path.join(analysis_directory, \"output\", \"gul_S1_leccalc_full_uncertainty_aep.csv\"))\n",
    "gul_aep = gul_aep[gul_aep.type == 1]\n",
    "gul_oep = pd.read_csv(os.path.join(analysis_directory, \"output\", \"gul_S1_leccalc_full_uncertainty_oep.csv\"))\n",
    "gul_oep = gul_oep[gul_oep.type == 1]\n",
    "eps = pd.merge(gul_oep, gul_aep, on=[\"summary_id\", \"return_period\"], suffixes=[\"_oep\", \"_aep\"])\n",
    "eps = eps.sort_values(by=\"return_period\", ascending=True)\n",
    "fig, ax = plt.subplots()\n",
    "eps.plot(ax=ax, kind='bar', x='return_period', y=[\"loss_oep\", \"loss_aep\"])\n",
    "ax.set_yticklabels(['{:,}'.format(int(x)) for x in ax.get_yticks().tolist()])\n",
    "ax.set_xticklabels(['{:,}'.format(int(x)) for x in eps.return_period])\n",
    "plt.legend(('OEP', 'AEP'))\n",
    "ax.set_xlabel(\"Return period (years)\")\n",
    "ax.set_ylabel(\"Loss\")"
   ]
  },
  {
   "cell_type": "code",
   "execution_count": null,
   "metadata": {},
   "outputs": [],
   "source": [
    "data:image/png;base64,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"
   ]
  }
 ],
 "metadata": {
  "kernelspec": {
   "display_name": "Python 3",
   "language": "python",
   "name": "python3"
  },
  "language_info": {
   "codemirror_mode": {
    "name": "ipython",
    "version": 3
   },
   "file_extension": ".py",
   "mimetype": "text/x-python",
   "name": "python",
   "nbconvert_exporter": "python",
   "pygments_lexer": "ipython3",
   "version": "3.8.2"
  }
 },
 "nbformat": 4,
 "nbformat_minor": 2
}
